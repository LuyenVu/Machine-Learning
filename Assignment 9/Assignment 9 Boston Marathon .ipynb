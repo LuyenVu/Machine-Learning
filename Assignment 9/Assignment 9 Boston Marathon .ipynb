{
 "cells": [
  {
   "cell_type": "markdown",
   "metadata": {},
   "source": [
    "# Boston Marathon project"
   ]
  },
  {
   "cell_type": "markdown",
   "metadata": {},
   "source": [
    "Using results 2014 database with link: https://github.com/llimllib/bostonmarathon/blob/master/results/2014/results.csv \n"
   ]
  },
  {
   "cell_type": "code",
   "execution_count": 128,
   "metadata": {
    "collapsed": true
   },
   "outputs": [],
   "source": [
    "import numpy as np\n",
    "import pandas as pd\n",
    "import seaborn as sns\n",
    "import matplotlib.pyplot as plt\n",
    "%matplotlib inline\n",
    "\n",
    "# Ignore warnings\n",
    "import warnings\n",
    "warnings.simplefilter(action = \"ignore\")"
   ]
  },
  {
   "cell_type": "code",
   "execution_count": 129,
   "metadata": {},
   "outputs": [
    {
     "data": {
      "text/html": [
       "<div>\n",
       "<style>\n",
       "    .dataframe thead tr:only-child th {\n",
       "        text-align: right;\n",
       "    }\n",
       "\n",
       "    .dataframe thead th {\n",
       "        text-align: left;\n",
       "    }\n",
       "\n",
       "    .dataframe tbody tr th {\n",
       "        vertical-align: top;\n",
       "    }\n",
       "</style>\n",
       "<table border=\"1\" class=\"dataframe\">\n",
       "  <thead>\n",
       "    <tr style=\"text-align: right;\">\n",
       "      <th></th>\n",
       "      <th>10k</th>\n",
       "      <th>name</th>\n",
       "      <th>division</th>\n",
       "      <th>25k</th>\n",
       "      <th>gender</th>\n",
       "      <th>age</th>\n",
       "      <th>official</th>\n",
       "      <th>bib</th>\n",
       "      <th>genderdiv</th>\n",
       "      <th>ctz</th>\n",
       "      <th>35k</th>\n",
       "      <th>overall</th>\n",
       "      <th>pace</th>\n",
       "      <th>state</th>\n",
       "      <th>30k</th>\n",
       "      <th>5k</th>\n",
       "      <th>half</th>\n",
       "      <th>20k</th>\n",
       "      <th>country</th>\n",
       "      <th>city</th>\n",
       "      <th>40k</th>\n",
       "    </tr>\n",
       "  </thead>\n",
       "  <tbody>\n",
       "    <tr>\n",
       "      <th>0</th>\n",
       "      <td>17.37</td>\n",
       "      <td>Yamamoto, Hiroyuki</td>\n",
       "      <td>8</td>\n",
       "      <td>47.67</td>\n",
       "      <td>M</td>\n",
       "      <td>47</td>\n",
       "      <td>85.25</td>\n",
       "      <td>1</td>\n",
       "      <td>8</td>\n",
       "      <td>NaN</td>\n",
       "      <td>71.4</td>\n",
       "      <td>8</td>\n",
       "      <td>3.27</td>\n",
       "      <td>NaN</td>\n",
       "      <td>59.18</td>\n",
       "      <td>8.02</td>\n",
       "      <td>39.72</td>\n",
       "      <td>37.65</td>\n",
       "      <td>JPN</td>\n",
       "      <td>Fukuoka</td>\n",
       "      <td>80.43</td>\n",
       "    </tr>\n",
       "    <tr>\n",
       "      <th>1</th>\n",
       "      <td>32.58</td>\n",
       "      <td>Jeptoo, Rita</td>\n",
       "      <td>1</td>\n",
       "      <td>82.43</td>\n",
       "      <td>F</td>\n",
       "      <td>33</td>\n",
       "      <td>138.95</td>\n",
       "      <td>1</td>\n",
       "      <td>1</td>\n",
       "      <td>NaN</td>\n",
       "      <td>116.37</td>\n",
       "      <td>21</td>\n",
       "      <td>5.30</td>\n",
       "      <td>NaN</td>\n",
       "      <td>99.33</td>\n",
       "      <td>16.22</td>\n",
       "      <td>69.47</td>\n",
       "      <td>65.83</td>\n",
       "      <td>KEN</td>\n",
       "      <td>Eldoret</td>\n",
       "      <td>132.1</td>\n",
       "    </tr>\n",
       "    <tr>\n",
       "      <th>2</th>\n",
       "      <td>16.62</td>\n",
       "      <td>Van Dyk, Ernst F.</td>\n",
       "      <td>1</td>\n",
       "      <td>45.8</td>\n",
       "      <td>M</td>\n",
       "      <td>41</td>\n",
       "      <td>80.60</td>\n",
       "      <td>2</td>\n",
       "      <td>1</td>\n",
       "      <td>NaN</td>\n",
       "      <td>67.42</td>\n",
       "      <td>1</td>\n",
       "      <td>3.08</td>\n",
       "      <td>NaN</td>\n",
       "      <td>56.45</td>\n",
       "      <td>7.75</td>\n",
       "      <td>38.03</td>\n",
       "      <td>36.1</td>\n",
       "      <td>RSA</td>\n",
       "      <td>Paarl</td>\n",
       "      <td>76.1</td>\n",
       "    </tr>\n",
       "    <tr>\n",
       "      <th>3</th>\n",
       "      <td>32.57</td>\n",
       "      <td>Dibaba, Mare</td>\n",
       "      <td>3</td>\n",
       "      <td>82.43</td>\n",
       "      <td>F</td>\n",
       "      <td>24</td>\n",
       "      <td>140.58</td>\n",
       "      <td>2</td>\n",
       "      <td>3</td>\n",
       "      <td>NaN</td>\n",
       "      <td>116.37</td>\n",
       "      <td>27</td>\n",
       "      <td>5.37</td>\n",
       "      <td>NaN</td>\n",
       "      <td>99.33</td>\n",
       "      <td>16.2</td>\n",
       "      <td>69.47</td>\n",
       "      <td>65.83</td>\n",
       "      <td>ETH</td>\n",
       "      <td>Shoa</td>\n",
       "      <td>132.95</td>\n",
       "    </tr>\n",
       "    <tr>\n",
       "      <th>4</th>\n",
       "      <td>17.12</td>\n",
       "      <td>Hokinoue, Kota</td>\n",
       "      <td>2</td>\n",
       "      <td>46.37</td>\n",
       "      <td>M</td>\n",
       "      <td>40</td>\n",
       "      <td>81.23</td>\n",
       "      <td>3</td>\n",
       "      <td>2</td>\n",
       "      <td>NaN</td>\n",
       "      <td>67.83</td>\n",
       "      <td>2</td>\n",
       "      <td>3.10</td>\n",
       "      <td>NaN</td>\n",
       "      <td>57.03</td>\n",
       "      <td>8.02</td>\n",
       "      <td>38.6</td>\n",
       "      <td>36.58</td>\n",
       "      <td>JPN</td>\n",
       "      <td>Nogata Fukuoka</td>\n",
       "      <td>76.72</td>\n",
       "    </tr>\n",
       "  </tbody>\n",
       "</table>\n",
       "</div>"
      ],
      "text/plain": [
       "     10k                name  division    25k gender  age  official  bib  \\\n",
       "0  17.37  Yamamoto, Hiroyuki         8  47.67      M   47     85.25    1   \n",
       "1  32.58        Jeptoo, Rita         1  82.43      F   33    138.95    1   \n",
       "2  16.62   Van Dyk, Ernst F.         1   45.8      M   41     80.60    2   \n",
       "3  32.57        Dibaba, Mare         3  82.43      F   24    140.58    2   \n",
       "4  17.12      Hokinoue, Kota         2  46.37      M   40     81.23    3   \n",
       "\n",
       "   genderdiv  ctz     35k  overall  pace state    30k     5k   half    20k  \\\n",
       "0          8  NaN    71.4        8  3.27   NaN  59.18   8.02  39.72  37.65   \n",
       "1          1  NaN  116.37       21  5.30   NaN  99.33  16.22  69.47  65.83   \n",
       "2          1  NaN   67.42        1  3.08   NaN  56.45   7.75  38.03   36.1   \n",
       "3          3  NaN  116.37       27  5.37   NaN  99.33   16.2  69.47  65.83   \n",
       "4          2  NaN   67.83        2  3.10   NaN  57.03   8.02   38.6  36.58   \n",
       "\n",
       "  country            city     40k  \n",
       "0     JPN         Fukuoka   80.43  \n",
       "1     KEN         Eldoret   132.1  \n",
       "2     RSA           Paarl    76.1  \n",
       "3     ETH            Shoa  132.95  \n",
       "4     JPN  Nogata Fukuoka   76.72  "
      ]
     },
     "execution_count": 129,
     "metadata": {},
     "output_type": "execute_result"
    }
   ],
   "source": [
    "# import database\n",
    "df = pd.read_csv('results 2014 clear.csv')\n",
    "pd.options.display.max_columns=None\n",
    "df.head()"
   ]
  },
  {
   "cell_type": "code",
   "execution_count": 130,
   "metadata": {},
   "outputs": [
    {
     "data": {
      "text/plain": [
       "Index(['10k', 'name', 'division', '25k', 'gender', 'age', 'official', 'bib',\n",
       "       'genderdiv', 'ctz', '35k', 'overall', 'pace', 'state', '30k', '5k',\n",
       "       'half', '20k', 'country', 'city', '40k'],\n",
       "      dtype='object')"
      ]
     },
     "execution_count": 130,
     "metadata": {},
     "output_type": "execute_result"
    }
   ],
   "source": [
    "df.columns"
   ]
  },
  {
   "cell_type": "code",
   "execution_count": 131,
   "metadata": {},
   "outputs": [
    {
     "data": {
      "text/plain": [
       "(31984, 21)"
      ]
     },
     "execution_count": 131,
     "metadata": {},
     "output_type": "execute_result"
    }
   ],
   "source": [
    "df.shape"
   ]
  },
  {
   "cell_type": "markdown",
   "metadata": {},
   "source": [
    "# Cleaning data "
   ]
  },
  {
   "cell_type": "code",
   "execution_count": 132,
   "metadata": {},
   "outputs": [
    {
     "name": "stdout",
     "output_type": "stream",
     "text": [
      "Count of null entries\n"
     ]
    },
    {
     "data": {
      "text/plain": [
       "10k              0\n",
       "name             0\n",
       "division         0\n",
       "25k              0\n",
       "gender           0\n",
       "age              0\n",
       "official         0\n",
       "bib              0\n",
       "genderdiv        0\n",
       "ctz          30740\n",
       "35k              0\n",
       "overall          0\n",
       "pace             0\n",
       "state         2576\n",
       "30k              0\n",
       "5k               0\n",
       "half             0\n",
       "20k              0\n",
       "country          0\n",
       "city             1\n",
       "40k              0\n",
       "dtype: int64"
      ]
     },
     "metadata": {},
     "output_type": "display_data"
    }
   ],
   "source": [
    "#df.info()\n",
    "print(\"Count of null entries\")\n",
    "display(df.isnull().sum())"
   ]
  },
  {
   "cell_type": "raw",
   "metadata": {},
   "source": [
    "Notes columns: 'ctz', 'state' have blank value.\n",
    "Cột 'ctz' sẽ drop vì có nhiều giá trị 'NaN' và chỉ chứa thông tin bổ sung"
   ]
  },
  {
   "cell_type": "code",
   "execution_count": 133,
   "metadata": {
    "collapsed": true
   },
   "outputs": [],
   "source": [
    "df.drop(\"ctz\", axis=1,inplace=True)"
   ]
  },
  {
   "cell_type": "raw",
   "metadata": {},
   "source": [
    "Cột 'state' giá trị Null sẽ được thay thế bằng ký tự '-'"
   ]
  },
  {
   "cell_type": "code",
   "execution_count": 134,
   "metadata": {
    "collapsed": true
   },
   "outputs": [],
   "source": [
    "df.state.fillna(\"-\", inplace=True)"
   ]
  },
  {
   "cell_type": "code",
   "execution_count": 135,
   "metadata": {},
   "outputs": [
    {
     "data": {
      "text/plain": [
       "-        50\n",
       "48.38    47\n",
       "48.97    47\n",
       "48.75    42\n",
       "48.02    42\n",
       "48.87    41\n",
       "47.62    41\n",
       "49.42    41\n",
       "48.3     40\n",
       "48.95    40\n",
       "47.88    40\n",
       "49.47    39\n",
       "48.28    38\n",
       "47.2     38\n",
       "49.88    37\n",
       "48.17    37\n",
       "48.03    37\n",
       "49.3     37\n",
       "47.13    37\n",
       "48.65    37\n",
       "47.8     36\n",
       "48.08    36\n",
       "49.03    36\n",
       "47.95    36\n",
       "49.73    36\n",
       "49.02    36\n",
       "48.25    36\n",
       "42.35    36\n",
       "49.32    36\n",
       "50.05    36\n",
       "         ..\n",
       "74.38     1\n",
       "79.67     1\n",
       "94.98     1\n",
       "76.82     1\n",
       "80.67     1\n",
       "77.75     1\n",
       "86.52     1\n",
       "81.82     1\n",
       "71.93     1\n",
       "80.02     1\n",
       "77.23     1\n",
       "32.92     1\n",
       "21.47     1\n",
       "72.5      1\n",
       "92.17     1\n",
       "67.52     1\n",
       "78.6      1\n",
       "67.73     1\n",
       "72.42     1\n",
       "77.2      1\n",
       "33.3      1\n",
       "75.68     1\n",
       "70.28     1\n",
       "77.4      1\n",
       "86.6      1\n",
       "75.1      1\n",
       "76.38     1\n",
       "21.13     1\n",
       "78.02     1\n",
       "72.8      1\n",
       "Name: 10k, Length: 2766, dtype: int64"
      ]
     },
     "execution_count": 135,
     "metadata": {},
     "output_type": "execute_result"
    }
   ],
   "source": [
    "# Kiểm tra dữ liệu cột '10k'\n",
    "df['10k'].value_counts(dropna=False)"
   ]
  },
  {
   "cell_type": "raw",
   "metadata": {},
   "source": [
    "Giá '-' không thể xóa được vì có nhiều thông tin ở các columns (feature) khác có chứa thông tin quan trọng.\n",
    "Các giá trị '-' được thay bằng 0"
   ]
  },
  {
   "cell_type": "code",
   "execution_count": 136,
   "metadata": {
    "collapsed": true
   },
   "outputs": [],
   "source": [
    "df['10k'].replace(\"-\", 0, inplace=True)"
   ]
  },
  {
   "cell_type": "raw",
   "metadata": {},
   "source": [
    "tương tự với các cột dữ liệu khác: '25k', '35k'', '30k', '5k','half', '20k', '40k'"
   ]
  },
  {
   "cell_type": "code",
   "execution_count": 137,
   "metadata": {
    "collapsed": true
   },
   "outputs": [],
   "source": [
    "df['25k'].replace(\"-\", 0, inplace=True)\n",
    "df['35k'].replace(\"-\", 0, inplace=True)\n",
    "df['5k'].replace(\"-\", 0, inplace=True)\n",
    "df['half'].replace(\"-\", 0, inplace=True)\n",
    "df['20k'].replace(\"-\", 0, inplace=True)\n",
    "df['40k'].replace(\"-\", 0, inplace=True)"
   ]
  },
  {
   "cell_type": "raw",
   "metadata": {},
   "source": [
    "Convert columns: '10k','25k', '35k'', '30k', '5k','half', '20k', '40k' from object to number"
   ]
  },
  {
   "cell_type": "raw",
   "metadata": {},
   "source": [
    "'Gender' chuyển về dạng category 0,1"
   ]
  },
  {
   "cell_type": "code",
   "execution_count": 138,
   "metadata": {
    "collapsed": true
   },
   "outputs": [],
   "source": [
    "from sklearn import preprocessing\n",
    "CategoricalEncoder = preprocessing.LabelEncoder()\n",
    "CategoricalEncoder.fit(df.gender)\n",
    "df.gender = CategoricalEncoder.transform(df.gender)\n"
   ]
  },
  {
   "cell_type": "code",
   "execution_count": 139,
   "metadata": {},
   "outputs": [
    {
     "name": "stdout",
     "output_type": "stream",
     "text": [
      "['F', 'M']\n",
      "Labels: F, Category value: 0\n",
      "Labels: M, Category value: 1\n"
     ]
    }
   ],
   "source": [
    "# View the labels \n",
    "print(list(CategoricalEncoder.classes_))\n",
    "\n",
    "for i, classes in enumerate(CategoricalEncoder.classes_):\n",
    "    print(\"Labels:\",classes + \", Category value:\",i )"
   ]
  },
  {
   "cell_type": "raw",
   "metadata": {},
   "source": [
    "Column 'Bid' có chứa vừa số vừa chữ -> clean chỉ còn số "
   ]
  },
  {
   "cell_type": "code",
   "execution_count": 140,
   "metadata": {
    "collapsed": true
   },
   "outputs": [],
   "source": [
    "def clean_bib(bib_string):\n",
    "    known_prefixes = 'FW'\n",
    "    if bib_string[0] in known_prefixes:\n",
    "        return int(bib_string[1:])\n",
    "    else:\n",
    "        return int(bib_string)"
   ]
  },
  {
   "cell_type": "code",
   "execution_count": 141,
   "metadata": {},
   "outputs": [],
   "source": [
    " df['bib'] = pd.to_numeric(df['bib'], errors='coerce')\n",
    "#df['bib'] = df['bib'].apply(bib_string)"
   ]
  },
  {
   "cell_type": "code",
   "execution_count": 146,
   "metadata": {},
   "outputs": [],
   "source": [
    "#df['bib'].value_counts(dropna=False)\n",
    "#df.info()"
   ]
  },
  {
   "cell_type": "code",
   "execution_count": 147,
   "metadata": {
    "collapsed": true
   },
   "outputs": [],
   "source": [
    "df = df.convert_objects(convert_numeric=True)"
   ]
  },
  {
   "cell_type": "code",
   "execution_count": 148,
   "metadata": {},
   "outputs": [
    {
     "data": {
      "text/html": [
       "<div>\n",
       "<style>\n",
       "    .dataframe thead tr:only-child th {\n",
       "        text-align: right;\n",
       "    }\n",
       "\n",
       "    .dataframe thead th {\n",
       "        text-align: left;\n",
       "    }\n",
       "\n",
       "    .dataframe tbody tr th {\n",
       "        vertical-align: top;\n",
       "    }\n",
       "</style>\n",
       "<table border=\"1\" class=\"dataframe\">\n",
       "  <thead>\n",
       "    <tr style=\"text-align: right;\">\n",
       "      <th></th>\n",
       "      <th>10k</th>\n",
       "      <th>division</th>\n",
       "      <th>25k</th>\n",
       "      <th>gender</th>\n",
       "      <th>age</th>\n",
       "      <th>official</th>\n",
       "      <th>bib</th>\n",
       "      <th>genderdiv</th>\n",
       "      <th>35k</th>\n",
       "      <th>overall</th>\n",
       "      <th>pace</th>\n",
       "      <th>30k</th>\n",
       "      <th>5k</th>\n",
       "      <th>half</th>\n",
       "      <th>20k</th>\n",
       "      <th>40k</th>\n",
       "    </tr>\n",
       "  </thead>\n",
       "  <tbody>\n",
       "    <tr>\n",
       "      <th>count</th>\n",
       "      <td>31984.000000</td>\n",
       "      <td>31984.000000</td>\n",
       "      <td>31984.000000</td>\n",
       "      <td>31984.000000</td>\n",
       "      <td>31984.000000</td>\n",
       "      <td>31984.000000</td>\n",
       "      <td>31984.000000</td>\n",
       "      <td>31984.000000</td>\n",
       "      <td>31984.000000</td>\n",
       "      <td>31984.000000</td>\n",
       "      <td>31984.000000</td>\n",
       "      <td>31944.000000</td>\n",
       "      <td>31984.000000</td>\n",
       "      <td>31984.000000</td>\n",
       "      <td>31984.000000</td>\n",
       "      <td>31984.000000</td>\n",
       "    </tr>\n",
       "    <tr>\n",
       "      <th>mean</th>\n",
       "      <td>51.718298</td>\n",
       "      <td>1932.563032</td>\n",
       "      <td>132.709723</td>\n",
       "      <td>0.550807</td>\n",
       "      <td>42.407079</td>\n",
       "      <td>242.997314</td>\n",
       "      <td>18147.632097</td>\n",
       "      <td>8051.044741</td>\n",
       "      <td>196.648339</td>\n",
       "      <td>15939.587825</td>\n",
       "      <td>9.275658</td>\n",
       "      <td>164.571219</td>\n",
       "      <td>25.713685</td>\n",
       "      <td>111.413195</td>\n",
       "      <td>105.543107</td>\n",
       "      <td>228.722255</td>\n",
       "    </tr>\n",
       "    <tr>\n",
       "      <th>std</th>\n",
       "      <td>9.189281</td>\n",
       "      <td>1715.228694</td>\n",
       "      <td>27.758446</td>\n",
       "      <td>0.497420</td>\n",
       "      <td>11.316496</td>\n",
       "      <td>52.300431</td>\n",
       "      <td>10395.933343</td>\n",
       "      <td>4754.005626</td>\n",
       "      <td>42.444377</td>\n",
       "      <td>9232.978224</td>\n",
       "      <td>1.992486</td>\n",
       "      <td>33.953683</td>\n",
       "      <td>4.447068</td>\n",
       "      <td>21.692902</td>\n",
       "      <td>20.209809</td>\n",
       "      <td>49.775681</td>\n",
       "    </tr>\n",
       "    <tr>\n",
       "      <th>min</th>\n",
       "      <td>0.000000</td>\n",
       "      <td>1.000000</td>\n",
       "      <td>0.000000</td>\n",
       "      <td>0.000000</td>\n",
       "      <td>18.000000</td>\n",
       "      <td>80.600000</td>\n",
       "      <td>1.000000</td>\n",
       "      <td>1.000000</td>\n",
       "      <td>0.000000</td>\n",
       "      <td>1.000000</td>\n",
       "      <td>3.080000</td>\n",
       "      <td>56.450000</td>\n",
       "      <td>0.000000</td>\n",
       "      <td>0.000000</td>\n",
       "      <td>0.000000</td>\n",
       "      <td>0.000000</td>\n",
       "    </tr>\n",
       "    <tr>\n",
       "      <th>25%</th>\n",
       "      <td>45.370000</td>\n",
       "      <td>610.000000</td>\n",
       "      <td>115.100000</td>\n",
       "      <td>0.000000</td>\n",
       "      <td>33.000000</td>\n",
       "      <td>205.527500</td>\n",
       "      <td>9118.750000</td>\n",
       "      <td>3972.000000</td>\n",
       "      <td>167.050000</td>\n",
       "      <td>7943.750000</td>\n",
       "      <td>7.850000</td>\n",
       "      <td>140.670000</td>\n",
       "      <td>22.630000</td>\n",
       "      <td>96.750000</td>\n",
       "      <td>91.700000</td>\n",
       "      <td>193.700000</td>\n",
       "    </tr>\n",
       "    <tr>\n",
       "      <th>50%</th>\n",
       "      <td>50.320000</td>\n",
       "      <td>1425.000000</td>\n",
       "      <td>128.670000</td>\n",
       "      <td>1.000000</td>\n",
       "      <td>42.000000</td>\n",
       "      <td>232.370000</td>\n",
       "      <td>18280.500000</td>\n",
       "      <td>7970.000000</td>\n",
       "      <td>188.120000</td>\n",
       "      <td>15939.500000</td>\n",
       "      <td>8.870000</td>\n",
       "      <td>157.730000</td>\n",
       "      <td>25.080000</td>\n",
       "      <td>107.775000</td>\n",
       "      <td>102.100000</td>\n",
       "      <td>218.780000</td>\n",
       "    </tr>\n",
       "    <tr>\n",
       "      <th>75%</th>\n",
       "      <td>57.150000</td>\n",
       "      <td>2611.000000</td>\n",
       "      <td>147.555000</td>\n",
       "      <td>1.000000</td>\n",
       "      <td>50.000000</td>\n",
       "      <td>273.235000</td>\n",
       "      <td>27218.250000</td>\n",
       "      <td>11968.000000</td>\n",
       "      <td>220.120000</td>\n",
       "      <td>23935.250000</td>\n",
       "      <td>10.430000</td>\n",
       "      <td>182.880000</td>\n",
       "      <td>28.455000</td>\n",
       "      <td>123.030000</td>\n",
       "      <td>116.480000</td>\n",
       "      <td>257.405000</td>\n",
       "    </tr>\n",
       "    <tr>\n",
       "      <th>max</th>\n",
       "      <td>112.380000</td>\n",
       "      <td>6979.000000</td>\n",
       "      <td>289.020000</td>\n",
       "      <td>1.000000</td>\n",
       "      <td>81.000000</td>\n",
       "      <td>538.880000</td>\n",
       "      <td>35912.000000</td>\n",
       "      <td>17575.000000</td>\n",
       "      <td>449.330000</td>\n",
       "      <td>31931.000000</td>\n",
       "      <td>20.570000</td>\n",
       "      <td>376.380000</td>\n",
       "      <td>86.950000</td>\n",
       "      <td>236.670000</td>\n",
       "      <td>224.350000</td>\n",
       "      <td>508.350000</td>\n",
       "    </tr>\n",
       "  </tbody>\n",
       "</table>\n",
       "</div>"
      ],
      "text/plain": [
       "                10k      division           25k        gender           age  \\\n",
       "count  31984.000000  31984.000000  31984.000000  31984.000000  31984.000000   \n",
       "mean      51.718298   1932.563032    132.709723      0.550807     42.407079   \n",
       "std        9.189281   1715.228694     27.758446      0.497420     11.316496   \n",
       "min        0.000000      1.000000      0.000000      0.000000     18.000000   \n",
       "25%       45.370000    610.000000    115.100000      0.000000     33.000000   \n",
       "50%       50.320000   1425.000000    128.670000      1.000000     42.000000   \n",
       "75%       57.150000   2611.000000    147.555000      1.000000     50.000000   \n",
       "max      112.380000   6979.000000    289.020000      1.000000     81.000000   \n",
       "\n",
       "           official           bib     genderdiv           35k       overall  \\\n",
       "count  31984.000000  31984.000000  31984.000000  31984.000000  31984.000000   \n",
       "mean     242.997314  18147.632097   8051.044741    196.648339  15939.587825   \n",
       "std       52.300431  10395.933343   4754.005626     42.444377   9232.978224   \n",
       "min       80.600000      1.000000      1.000000      0.000000      1.000000   \n",
       "25%      205.527500   9118.750000   3972.000000    167.050000   7943.750000   \n",
       "50%      232.370000  18280.500000   7970.000000    188.120000  15939.500000   \n",
       "75%      273.235000  27218.250000  11968.000000    220.120000  23935.250000   \n",
       "max      538.880000  35912.000000  17575.000000    449.330000  31931.000000   \n",
       "\n",
       "               pace           30k            5k          half           20k  \\\n",
       "count  31984.000000  31944.000000  31984.000000  31984.000000  31984.000000   \n",
       "mean       9.275658    164.571219     25.713685    111.413195    105.543107   \n",
       "std        1.992486     33.953683      4.447068     21.692902     20.209809   \n",
       "min        3.080000     56.450000      0.000000      0.000000      0.000000   \n",
       "25%        7.850000    140.670000     22.630000     96.750000     91.700000   \n",
       "50%        8.870000    157.730000     25.080000    107.775000    102.100000   \n",
       "75%       10.430000    182.880000     28.455000    123.030000    116.480000   \n",
       "max       20.570000    376.380000     86.950000    236.670000    224.350000   \n",
       "\n",
       "                40k  \n",
       "count  31984.000000  \n",
       "mean     228.722255  \n",
       "std       49.775681  \n",
       "min        0.000000  \n",
       "25%      193.700000  \n",
       "50%      218.780000  \n",
       "75%      257.405000  \n",
       "max      508.350000  "
      ]
     },
     "execution_count": 148,
     "metadata": {},
     "output_type": "execute_result"
    }
   ],
   "source": [
    "df.describe()\n",
    "#df.to_csv('results 2014 clear.csv')"
   ]
  },
  {
   "cell_type": "markdown",
   "metadata": {},
   "source": [
    "# visualizations"
   ]
  },
  {
   "cell_type": "raw",
   "metadata": {},
   "source": [
    "Phân bố theo độ tuổi"
   ]
  },
  {
   "cell_type": "code",
   "execution_count": 149,
   "metadata": {},
   "outputs": [
    {
     "name": "stdout",
     "output_type": "stream",
     "text": [
      "64\n",
      "63\n"
     ]
    },
    {
     "data": {
      "text/plain": [
       "<matplotlib.axes._subplots.AxesSubplot at 0x5abbbd2f60>"
      ]
     },
     "execution_count": 149,
     "metadata": {},
     "output_type": "execute_result"
    },
    {
     "data": {
      "image/png": "[encoded data removed]",
      "text/plain": [
       "<matplotlib.figure.Figure at 0x5abbbc3be0>"
      ]
     },
     "metadata": {},
     "output_type": "display_data"
    }
   ],
   "source": [
    "print(len(df['age'].unique()))\n",
    "print(df['age'].max() - df['age'].min())\n",
    "df['age'].hist(bins=64)"
   ]
  },
  {
   "cell_type": "raw",
   "metadata": {},
   "source": [
    "Độ tuổi tham gia nhiều chủ yếu từ 25 đến 55."
   ]
  },
  {
   "cell_type": "code",
   "execution_count": 150,
   "metadata": {},
   "outputs": [
    {
     "data": {
      "text/plain": [
       "1    17617\n",
       "0    14367\n",
       "Name: gender, dtype: int64"
      ]
     },
     "execution_count": 150,
     "metadata": {},
     "output_type": "execute_result"
    }
   ],
   "source": [
    "df['gender'].value_counts()"
   ]
  },
  {
   "cell_type": "raw",
   "metadata": {},
   "source": [
    "Số lượng Nữ tham gia gần tương đương với Nam"
   ]
  },
  {
   "cell_type": "code",
   "execution_count": 151,
   "metadata": {},
   "outputs": [
    {
     "data": {
      "text/plain": [
       "[]"
      ]
     },
     "execution_count": 151,
     "metadata": {},
     "output_type": "execute_result"
    },
    {
     "data": {
      "image/png": "[encoded data removed]",
      "text/plain": [
       "<matplotlib.figure.Figure at 0x5ab3710f28>"
      ]
     },
     "metadata": {},
     "output_type": "display_data"
    }
   ],
   "source": [
    "df[df['gender']==True]['age'].hist(bins=64, color='b', alpha=0.5)\n",
    "df[df['gender']==False]['age'].hist(bins=64, color='r', alpha=0.5)\n",
    "plt.legend(['men','women'])\n",
    "plt.xlabel('Age')\n",
    "plt.ylabel('Number of runners')\n",
    "plt.title('Number of runners by age')\n",
    "plt.plot()"
   ]
  },
  {
   "cell_type": "raw",
   "metadata": {},
   "source": [
    "Số lượng Nữ trẻ tuổi tham gia nhiều hơn Nam (từ 20 - 30 tuổi)\n",
    "Số lượng Nam độ tuổi từ 40 - 55 tham gia nhiều hơn Nữ."
   ]
  },
  {
   "cell_type": "raw",
   "metadata": {},
   "source": [
    "Xem xét sự tương quan giữa các feature"
   ]
  },
  {
   "cell_type": "code",
   "execution_count": 152,
   "metadata": {},
   "outputs": [
    {
     "data": {
      "text/plain": [
       "<matplotlib.axes._subplots.AxesSubplot at 0x5aba9d04e0>"
      ]
     },
     "execution_count": 152,
     "metadata": {},
     "output_type": "execute_result"
    },
    {
     "data": {
      "image/png": "[encoded data removed]",
      "text/plain": [
       "<matplotlib.figure.Figure at 0x5aba9a5e10>"
      ]
     },
     "metadata": {},
     "output_type": "display_data"
    }
   ],
   "source": [
    "fig, axes = plt.subplots(figsize=(10, 10))\n",
    "sns.heatmap(df.corr(), cmap='coolwarm', linewidth=1, annot=True, annot_kws={'size': 9})"
   ]
  },
  {
   "cell_type": "markdown",
   "metadata": {},
   "source": [
    "division, gender, age, bid, genderdiv có sự tương quan thấp"
   ]
  },
  {
   "cell_type": "markdown",
   "metadata": {},
   "source": [
    "# Analysis"
   ]
  },
  {
   "cell_type": "code",
   "execution_count": 155,
   "metadata": {},
   "outputs": [
    {
     "data": {
      "text/html": [
       "<div>\n",
       "<style>\n",
       "    .dataframe thead tr:only-child th {\n",
       "        text-align: right;\n",
       "    }\n",
       "\n",
       "    .dataframe thead th {\n",
       "        text-align: left;\n",
       "    }\n",
       "\n",
       "    .dataframe tbody tr th {\n",
       "        vertical-align: top;\n",
       "    }\n",
       "</style>\n",
       "<table border=\"1\" class=\"dataframe\">\n",
       "  <thead>\n",
       "    <tr style=\"text-align: right;\">\n",
       "      <th></th>\n",
       "      <th>0</th>\n",
       "      <th>1</th>\n",
       "      <th>2</th>\n",
       "      <th>3</th>\n",
       "      <th>4</th>\n",
       "    </tr>\n",
       "  </thead>\n",
       "  <tbody>\n",
       "    <tr>\n",
       "      <th>bib</th>\n",
       "      <td>1.00</td>\n",
       "      <td>1.00</td>\n",
       "      <td>2.00</td>\n",
       "      <td>2.00</td>\n",
       "      <td>3.00</td>\n",
       "    </tr>\n",
       "    <tr>\n",
       "      <th>age</th>\n",
       "      <td>47.00</td>\n",
       "      <td>33.00</td>\n",
       "      <td>41.00</td>\n",
       "      <td>24.00</td>\n",
       "      <td>40.00</td>\n",
       "    </tr>\n",
       "    <tr>\n",
       "      <th>gender</th>\n",
       "      <td>1.00</td>\n",
       "      <td>0.00</td>\n",
       "      <td>1.00</td>\n",
       "      <td>0.00</td>\n",
       "      <td>1.00</td>\n",
       "    </tr>\n",
       "    <tr>\n",
       "      <th>division</th>\n",
       "      <td>8.00</td>\n",
       "      <td>1.00</td>\n",
       "      <td>1.00</td>\n",
       "      <td>3.00</td>\n",
       "      <td>2.00</td>\n",
       "    </tr>\n",
       "    <tr>\n",
       "      <th>5k</th>\n",
       "      <td>8.02</td>\n",
       "      <td>16.22</td>\n",
       "      <td>7.75</td>\n",
       "      <td>16.20</td>\n",
       "      <td>8.02</td>\n",
       "    </tr>\n",
       "    <tr>\n",
       "      <th>10k</th>\n",
       "      <td>17.37</td>\n",
       "      <td>32.58</td>\n",
       "      <td>16.62</td>\n",
       "      <td>32.57</td>\n",
       "      <td>17.12</td>\n",
       "    </tr>\n",
       "    <tr>\n",
       "      <th>20k</th>\n",
       "      <td>37.65</td>\n",
       "      <td>65.83</td>\n",
       "      <td>36.10</td>\n",
       "      <td>65.83</td>\n",
       "      <td>36.58</td>\n",
       "    </tr>\n",
       "    <tr>\n",
       "      <th>half</th>\n",
       "      <td>39.72</td>\n",
       "      <td>69.47</td>\n",
       "      <td>38.03</td>\n",
       "      <td>69.47</td>\n",
       "      <td>38.60</td>\n",
       "    </tr>\n",
       "    <tr>\n",
       "      <th>25k</th>\n",
       "      <td>47.67</td>\n",
       "      <td>82.43</td>\n",
       "      <td>45.80</td>\n",
       "      <td>82.43</td>\n",
       "      <td>46.37</td>\n",
       "    </tr>\n",
       "    <tr>\n",
       "      <th>30k</th>\n",
       "      <td>59.18</td>\n",
       "      <td>99.33</td>\n",
       "      <td>56.45</td>\n",
       "      <td>99.33</td>\n",
       "      <td>57.03</td>\n",
       "    </tr>\n",
       "    <tr>\n",
       "      <th>35k</th>\n",
       "      <td>71.40</td>\n",
       "      <td>116.37</td>\n",
       "      <td>67.42</td>\n",
       "      <td>116.37</td>\n",
       "      <td>67.83</td>\n",
       "    </tr>\n",
       "    <tr>\n",
       "      <th>40k</th>\n",
       "      <td>80.43</td>\n",
       "      <td>132.10</td>\n",
       "      <td>76.10</td>\n",
       "      <td>132.95</td>\n",
       "      <td>76.72</td>\n",
       "    </tr>\n",
       "  </tbody>\n",
       "</table>\n",
       "</div>"
      ],
      "text/plain": [
       "              0       1      2       3      4\n",
       "bib        1.00    1.00   2.00    2.00   3.00\n",
       "age       47.00   33.00  41.00   24.00  40.00\n",
       "gender     1.00    0.00   1.00    0.00   1.00\n",
       "division   8.00    1.00   1.00    3.00   2.00\n",
       "5k         8.02   16.22   7.75   16.20   8.02\n",
       "10k       17.37   32.58  16.62   32.57  17.12\n",
       "20k       37.65   65.83  36.10   65.83  36.58\n",
       "half      39.72   69.47  38.03   69.47  38.60\n",
       "25k       47.67   82.43  45.80   82.43  46.37\n",
       "30k       59.18   99.33  56.45   99.33  57.03\n",
       "35k       71.40  116.37  67.42  116.37  67.83\n",
       "40k       80.43  132.10  76.10  132.95  76.72"
      ]
     },
     "execution_count": 155,
     "metadata": {},
     "output_type": "execute_result"
    }
   ],
   "source": [
    "outliers_df   = df[['bib','age','gender','division','5k','10k','20k','half','25k','30k','35k','40k']]\n",
    "outliers_df .head().T\n"
   ]
  },
  {
   "cell_type": "code",
   "execution_count": 154,
   "metadata": {},
   "outputs": [],
   "source": [
    "from sklearn.preprocessing import StandardScaler\n",
    "from sklearn.cluster import KMeans"
   ]
  },
  {
   "cell_type": "code",
   "execution_count": 167,
   "metadata": {},
   "outputs": [
    {
     "name": "stdout",
     "output_type": "stream",
     "text": [
      "<class 'pandas.core.frame.DataFrame'>\n",
      "RangeIndex: 31984 entries, 0 to 31983\n",
      "Data columns (total 12 columns):\n",
      "bib         31984 non-null int64\n",
      "age         31984 non-null int64\n",
      "gender      31984 non-null int64\n",
      "division    31984 non-null int64\n",
      "5k          31984 non-null float64\n",
      "10k         31984 non-null float64\n",
      "20k         31984 non-null float64\n",
      "half        31984 non-null float64\n",
      "25k         31984 non-null float64\n",
      "30k         31944 non-null float64\n",
      "35k         31984 non-null float64\n",
      "40k         31984 non-null float64\n",
      "dtypes: float64(8), int64(4)\n",
      "memory usage: 2.9 MB\n"
     ]
    }
   ],
   "source": [
    "#df['10k'] = df['10k'].astype(int)\n",
    "df['10k'] = pd.to_numeric(df['10k'], errors='coerce',downcast= 'integer')\n",
    "#X_outliers  = StandardScaler().fit_transform(outliers_df)\n",
    "outliers_df.info()\n"
   ]
  },
  {
   "cell_type": "code",
   "execution_count": null,
   "metadata": {
    "collapsed": true
   },
   "outputs": [],
   "source": [
    "print outliers_df.shape\n",
    "print X_outliers.shape"
   ]
  },
  {
   "cell_type": "code",
   "execution_count": null,
   "metadata": {
    "collapsed": true
   },
   "outputs": [],
   "source": [
    "model = KMeans(n_clusters = 3, max_iter=10, n_jobs=-1)\n",
    "model.fit(X_outliers)"
   ]
  }
 ],
 "metadata": {
  "kernelspec": {
   "display_name": "Python 3",
   "language": "python",
   "name": "python3"
  },
  "language_info": {
   "codemirror_mode": {
    "name": "ipython",
    "version": 3
   },
   "file_extension": ".py",
   "mimetype": "text/x-python",
   "name": "python",
   "nbconvert_exporter": "python",
   "pygments_lexer": "ipython3",
   "version": "3.5.3"
  }
 },
 "nbformat": 4,
 "nbformat_minor": 2
}
